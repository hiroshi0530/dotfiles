{
 "cells": [
  {
   "cell_type": "markdown",
   "metadata": {},
   "source": [
    "## [Plala 原因調査 02] イナズマイレブンと遊戯王が多くのユーザーにレコメンドされる\n",
    "\n",
    "Plala様から原因調査の依頼があったので調査を行う。\n",
    "この記事は前回の[Plala 原因調査](https://abeja.docbase.io/posts/1882267)に次ぐものである。\n",
    "\n",
    "大作さんより依頼のあった、以下の対応を行う。\n",
    "\n",
    "```bash\n",
    "【追加で対応】\n",
    "a. 使用したコンテンツ／ユーザデータの属性（格納場所、データ名、期間など）を明記する【わやまさん、きょうさん】\n",
    "b. 今回NTTぷらら様が掲出した期間のコンテンツ／ユーザデータに合わせることは可能か？【わやまさん、きょうさん】\n",
    "c. 分散のグラフをより大きく【わやまさん、きょうさん】\n",
    "d. 調査内容の記載を、NTTぷらら様上位レイヤ・関連部署の方々に、よりわかりやすく、硬い文体へ変更【大作】\n",
    "f.「作品のベクトルのノルムの平均や分散を確認」の記載内容から試行時の不要な内容、及び結論に対して欠落している内容を追記する【わやまさん、きょうさん】\n",
    "g.先方問い合わせ「 ④遊戯王が出ているのはJOJO/進撃の巨人を見たといっているひとで似ているか」※に対する回答を追加分析する【わやまさん、きょうさん】\n",
    "※「JOJO」や「進撃の巨人」を閲覧しているユーザは、「イナズマイレブン」や「遊戯王」をみる計算結果になっているのか？と解釈\n",
    "＞上記ユーザが、「イナズマイレブン」や「遊戯王」と、ベクトル空間上で近しい位置に存在するのか集計する（以前、Slackではっとりさんがやってくれてた集計と同じイメージ）\n",
    "----------\n",
    "【Next Action】\n",
    "・5/7（金）夕方に本日関係者で状況確認のMTGを実施\n",
    "　・アジェンダ：完了箇所まで結果説明、かつ完了予定日の調整を想定\n",
    "```\n"
   ]
  },
  {
   "cell_type": "markdown",
   "metadata": {},
   "source": [
    "## 対応\n",
    "\n",
    "####  a. 使用したコンテンツ／ユーザデータの属性（格納場所、データ名、期間など）を明記する【わやまさん、きょうさん】\n",
    "\n",
    "- inputするファイル群は以下の通り\n",
    "  - action_log_20210423.tsv.gz\n",
    "  - basicinfo_20210423.tsv.gz\n",
    "  - iptv_ch_meta_20210422.tar.gz\n",
    "  - iptv_log_20210422.tsv.gz\n",
    "  - iptv_meta_20210422.tar.gz\n",
    "  - user_master_20210422.tsv.gz\n",
    "  - video_personal_recommend_step2_20210423.tsv.gz\n",
    "\n",
    "\n",
    "#### b.  今回NTTぷらら様が掲出した期間のコンテンツ／ユーザデータに合わせることは可能か？【わやまさん、きょうさん】\n",
    "\n",
    "- a. のファイル群をインプットしたことで、合わせたデータになっている\n",
    "\n",
    "#### c.  分散のグラフをより大きく【わやまさん、きょうさん】\n",
    "\n",
    "- 下記のグラフで対応済み\n",
    "\n",
    "#### d.  調査内容の記載を、NTTぷらら様上位レイヤ・関連部署の方々に、よりわかりやすく、硬い文体へ変更【大作】\n",
    "\n",
    "- 大作さん、よろしくお願いします(>_<)\n",
    "\n",
    "#### f. 「作品のベクトルのノルムの平均や分散を確認」の記載内容から試行時の不要な内容、及び結論に対して欠落している内容を追記する【わやまさん、きょうさん】\n",
    "\n",
    "- グラフと説明を追記\n",
    "\n",
    "#### g. 先方問い合わせ「 ④遊戯王が出ているのはJOJO/進撃の巨人を見たといっているひとで似ているか」※に対する回答を追加分析する【わやまさん、きょうさん】\n",
    "\n",
    "- 調査中\n",
    "\n",
    "#### h.  [追加？]\n",
    "- STEP1で既にレコメンド対象であったユーザのうち10%をランダム抽出：約1万3千人\n",
    "- STEP2で新たにレコメンド対象となったユーザ：約2万4千人\n"
   ]
  },
  {
   "cell_type": "markdown",
   "metadata": {},
   "source": [
    "## 調査の方針\n",
    "\n",
    "多くのユーザーのレコメンドリストに含まれるので、ベクトル空間を主軸に考えた場合、ありえるパターンは次の二通り\n",
    "\n",
    "1. 上記の作品群がベクトル空間上で広く均一に配置される場合\n",
    "2. ベクトル空間上での分布が予想以上に偏っている\n",
    "\n",
    "- 1.の場合 => 他作品と比較して、各ベクトルから作品の平均ベクトルを差し引いたベクトルのノルムの平均や分散が大きいと考えられる\n",
    "- 2.の場合 => ベクトル空間内のプロットの様子を可視化してみる\n",
    "\n",
    "### 生データの読み込み"
   ]
  },
  {
   "cell_type": "code",
   "execution_count": 2,
   "metadata": {},
   "outputs": [],
   "source": [
    "import sys\n",
    "\n",
    "sys.path.append( \"../src/\" )\n",
    "\n",
    "import numpy as np\n",
    "import pandas as pd\n",
    "import matplotlib.pyplot as plt\n",
    "\n",
    "from vodrec.data import VODDataset\n",
    "\n",
    "# 今回のPlala様から頂いたファイルで作成したpkl\n",
    "file_name = '../data/files/210423/output/vod_5_result.pkl'\n",
    "\n",
    "data = VODDataset.load(file_name)"
   ]
  },
  {
   "cell_type": "markdown",
   "metadata": {},
   "source": [
    "## 作品のベクトルのノルムの平均や標準偏差を確認\n",
    "\n",
    "- 先方から頂いた作品群で「全XXX話」以後の文字列を削除し、タイトルやシノプシスにその文言が含まれる場合のみを計算に含めるようにする\n",
    "- ベクトル空間上で該当する作品が散らばって存在する場合、多くのユーザーのレコメンドリストに入る可能性が高いので、ノルムの平均とその標準偏差を計算する\n",
    "    - 計算する際、各ベクトルから中心を差し引く　"
   ]
  },
  {
   "cell_type": "code",
   "execution_count": null,
   "metadata": {
    "scrolled": true
   },
   "outputs": [],
   "source": [
    "\"\"\"\n",
    " イナズマイレブン オリオンの刻印 全49話【あにてれしあたー】                                           11673\n",
    " イナズマイレブン アレスの天秤 全26話【あにてれしあたー】                                             8398\n",
    " 遊☆戯☆王デュエルモンスターズ　乃亜(ノア)編　全24話【あにてれしあたー】                             8058\n",
    " 遊☆戯☆王デュエルモンスターズ  バトルシティ編(前編)　全46話【あにてれしあたー】                     8009\n",
    " ハイスコアガール 全12話                                                                              7812\n",
    " あんさんぶるスターズ！　                                                                             7747\n",
    " 【ｵﾘｼﾞﾅﾙ】OH！舞 DA PUMP!!                                                                           7668\n",
    " ダーリン・イン・ザ・フランキス　全24話                                                               7661\n",
    " TVアニメ「青の祓魔師 京都不浄王篇」　全12話                                                          7660\n",
    " 妖怪学園Y ～Nとの遭遇～（妖怪ウォッチJam） 全63話【あにてれしあたー】                                7596\n",
    " ぼくらの 全24話                                                                                      7164\n",
    " ハヤテのごとく!!                                                                                     7101\n",
    " ヴィレヴァン！２                                                                                     7055\n",
    " 遊☆戯☆王デュエルモンスターズ　王(ファラオ)の記憶編　全26話【あにてれしあたー】                     7041\n",
    " ジョジョの奇妙な冒険 ダイヤモンドは砕けない 全39話                                                   6895\n",
    " N.Y.マックスマン                                                                                     6757\n",
    " 遊☆戯☆王デュエルモンスターズ  ドーマ編  全40話【あにてれしあたー】                                 6704\n",
    " 妖怪ウォッチ　全214話【あにてれしあたー】                                                            6687\n",
    " 妖怪ウォッチ シャドウサイド 全49話【あにてれしあたー】                                               6523\n",
    " 青の祓魔師 全25話                                                                                    6457\n",
    " 遊☆戯☆王ZEXAL（ドクター・フェイカー編）　全73話【あにてれしあたー】                                6389\n",
    " 魔入りました！入間くん 第1シリーズ　全23話                                                           6382\n",
    "\"\"\"\n",
    "\n",
    "word_list = [\n",
    "'イナズマイレブン オリオンの刻印', \n",
    "'イナズマイレブン アレスの天秤', \n",
    "'遊☆戯☆王デュエルモンスターズ　乃亜(ノア)編', \n",
    "'遊☆戯☆王デュエルモンスターズ  バトルシティ編(前編)', \n",
    "'ハイスコアガール', \n",
    "'あんさんぶるスターズ！', \n",
    "'【ｵﾘｼﾞﾅﾙ】OH！舞 DA PUMP!!', \n",
    "'ダーリン・イン・ザ・フランキス', \n",
    "'TVアニメ「青の祓魔師 京都不浄王篇」', \n",
    "'妖怪学園Y ～Nとの遭遇～（妖怪ウォッチJam）', \n",
    "'ぼくらの', \n",
    "'ハヤテのごとく!!', \n",
    "'ヴィレヴァン！２', \n",
    "'遊☆戯☆王デュエルモンスターズ　王(ファラオ)の記憶編', \n",
    "'ジョジョの奇妙な冒険 ダイヤモンドは砕けない', \n",
    "'N.Y.マックスマン', \n",
    "'遊☆戯☆王デュエルモンスターズ  ドーマ編', \n",
    "'妖怪ウォッチ', \n",
    "'妖怪ウォッチ シャドウサイド', \n",
    "'青の祓魔師', \n",
    "'遊☆戯☆王ZEXAL（ドクター・フェイカー編）', \n",
    "'魔入りました！入間くん 第1シリーズ', \n",
    "]\n",
    "\n",
    "count_list = [\n",
    "  11673,\n",
    "  8398,\n",
    "  8058,\n",
    "  8009,\n",
    "  7812,\n",
    "  7747,\n",
    "  7668,\n",
    "  7661,\n",
    "  7660,\n",
    "  7596,\n",
    "  7164,\n",
    "  7101,\n",
    "  7055,\n",
    "  7041,\n",
    "  6895,\n",
    "  6757,\n",
    "  6704,\n",
    "  6687,\n",
    "  6523,\n",
    "  6457,\n",
    "  6389,\n",
    "  6382,\n",
    "]\n",
    "\n",
    "\n",
    "def get_norm_mean_std(word):\n",
    "\n",
    "  content_vector_list = []\n",
    "  tag_vector_list = []\n",
    "  collaborative_vector_list = []\n",
    "  \n",
    "  i = 0\n",
    "  for meta in data.meta_db:\n",
    "    if word in meta.main_title or word in str(meta.synopsis):\n",
    "      # print(meta.main_title)\n",
    "      content_vector_list.append(meta.vectors['content_vector'])\n",
    "      tag_vector_list.append(meta.vectors['tag_vector'])\n",
    "      collaborative_vector_list.append(meta.vectors['collaborative_vector'])\n",
    "      i += 1\n",
    "      # if i > 3:\n",
    "      #   break\n",
    "  \n",
    "  if i == 0:\n",
    "    return None\n",
    "  \n",
    "  tag_vector_list = np.array(tag_vector_list)\n",
    "  tag_vector_list_mean = np.mean(tag_vector_list, axis=0)\n",
    "  tag_vector_list = tag_vector_list - tag_vector_list_mean\n",
    "  tag_vector_norm_mean = np.mean(np.linalg.norm(tag_vector_list, axis=1))\n",
    "  tag_vector_norm_std = np.std(np.linalg.norm(tag_vector_list, axis=1))\n",
    "  \n",
    "  content_vector_list = np.array(content_vector_list)\n",
    "  content_vector_list_mean = np.mean(content_vector_list, axis=0)\n",
    "  content_vector_list = content_vector_list - content_vector_list_mean\n",
    "  content_vector_norm_mean = np.mean(np.linalg.norm(content_vector_list, axis=1))\n",
    "  content_vector_norm_std = np.std(np.linalg.norm(content_vector_list, axis=1))\n",
    "  \n",
    "  collaborative_vector_list = np.array(collaborative_vector_list)\n",
    "  collaborative_vector_list_mean = np.mean(collaborative_vector_list, axis=0)\n",
    "  collaborative_vector_list = collaborative_vector_list - collaborative_vector_list_mean\n",
    "  collaborative_vector_norm_mean = np.mean(np.linalg.norm(collaborative_vector_list, axis=1))\n",
    "  collaborative_vector_norm_std = np.std(np.linalg.norm(collaborative_vector_list, axis=1))\n",
    " \n",
    "  norm_mean = np.mean([tag_vector_norm_mean, content_vector_norm_mean, collaborative_vector_norm_mean])\n",
    "  norm_std = np.std([tag_vector_norm_std, content_vector_norm_std, collaborative_vector_norm_std])\n",
    "\n",
    "  return [(norm_mean, tag_vector_norm_mean, content_vector_norm_mean, collaborative_vector_norm_mean, i, word) ,\n",
    "          (norm_std, tag_vector_norm_std, content_vector_norm_std, collaborative_vector_norm_std, i, word)]\n",
    "\n",
    "ret_word_list = []\n",
    "norm_mean_list = []\n",
    "norm_std_list = []\n",
    "\n",
    "for word in word_list:\n",
    "  ret = get_norm_mean_std(word)\n",
    "  if ret is not None:\n",
    "    norm_mean_list.append(ret[0][0])\n",
    "    norm_std_list.append(ret[1][0])\n",
    "    ret_word_list.append(word)\n",
    "\n",
    "    \n",
    "# mean\n",
    "plt.figure(figsize=(10, 10))\n",
    "fig, ax1 = plt.subplots(figsize=(10, 10))\n",
    "ax2 = ax1.twinx()\n",
    "ax1.bar([i for i in range(22)], norm_mean_list)\n",
    "ax2.plot([i for i in range(22)], count_list, color='red')\n",
    "ax1.set_ylabel('norm mean', fontsize=24)\n",
    "ax2.set_ylabel('views', fontsize=24)\n",
    "ax1.grid()\n",
    "ax1.tick_params(labelsize=24) \n",
    "ax2.tick_params(labelsize=24) \n",
    "plt.show()\n",
    "plt.close()\n",
    "\n",
    "# std\n",
    "plt.figure(figsize=(10, 10))\n",
    "fig, ax1 = plt.subplots(figsize=(10, 10))\n",
    "ax2 = ax1.twinx()\n",
    "ax1.bar([i for i in range(22)], norm_std_list)\n",
    "ax2.plot([i for i in range(22)], count_list, color='red')\n",
    "ax1.set_ylabel('norm std', fontsize=24)\n",
    "ax2.set_ylabel('views', fontsize=24)\n",
    "ax1.grid()\n",
    "ax1.tick_params(labelsize=24) \n",
    "ax2.tick_params(labelsize=24) \n",
    "plt.show()\n",
    "plt.close()"
   ]
  },
  {
   "cell_type": "markdown",
   "metadata": {},
   "source": [
    "### ノルムの平均と標準偏差\n",
    "\n",
    "左軸に、ノルムの平均（３つのベクトルの平均を計算し、さらにその平均）、もしくは、ノルムの標準偏差（３つのベクトルの標準偏差を計算し、さらにその平均）、右軸に、レコメンドリスに入った回数（御社から頂いたviewの回数）、横軸は、作品（左から数が多い順にソート済み）としている。\n",
    "\n",
    "#### 平均\n",
    "![bug\\_210430\\_02\\_5\\_1.png](https://image.docbase.io/uploads/15a6ffae-f7ef-4d0e-ab2d-b55c429c5ef4.png =WxH)\n",
    "\n",
    "今回の仮定が正しければ、views(折れ線グラフ)が下がるにつれて、norm mean(棒グラフ)も下がる傾向にあるはずだが、そのような傾向はない。\n",
    "\n",
    "#### 標準偏差\n",
    "$\\text{標準偏差}= \\sqrt{\\text{分散}}$である。\n",
    "\n",
    "![bug\\_210430\\_02\\_5\\_3.png](https://image.docbase.io/uploads/a458931e-5a3e-4e68-875b-df4d5c56fcc6.png =WxH)\n",
    "\n",
    "標準偏差も今回の仮定が正しければ、views(折れ線グラフ)が下がるにつれて、norm mean(棒グラフ)も下がる傾向にあるはずだが、そのような傾向はない。\n",
    "\n",
    "### ばらつきに関する結論\n",
    "\n",
    "該当の作品がベクトル空間上で特段にばらつきが大きいわけではない"
   ]
  },
  {
   "cell_type": "markdown",
   "metadata": {},
   "source": [
    "## ベクトル空間上を可視化\n",
    "\n",
    "といあえず、ベクトル空間上での配置の様子をみるために、t-SNEを用いて二次元に圧縮してみる。\n",
    "ユーザーは１００人を完全にランダムに抽出。"
   ]
  },
  {
   "cell_type": "code",
   "execution_count": 101,
   "metadata": {},
   "outputs": [],
   "source": [
    "user_db_list = []\n",
    "user_num = 3000\n",
    "\n",
    "np.random.seed(123)\n",
    "basic_contract_ids_list = np.random.choice(data.user_db.basic_contract_ids, user_num)\n",
    "for i in basic_contract_ids_list:\n",
    "  user_db_list.append(data.user_db.data[i])"
   ]
  },
  {
   "cell_type": "code",
   "execution_count": 102,
   "metadata": {},
   "outputs": [],
   "source": [
    "user_tag_vector_list = []\n",
    "user_content_vector_list = []\n",
    "user_collaborative_vector_list = []\n",
    "\n",
    "for i in user_db_list:\n",
    "  user_tag_vector_list.append(i.vectors['tag_vector'])\n",
    "  user_content_vector_list.append(i.vectors['content_vector'])\n",
    "  user_collaborative_vector_list.append(i.vectors['collaborative_vector'])\n",
    "\n",
    "user_tag_vector_list = np.array(user_tag_vector_list)\n",
    "user_content_vector_list = np.array(user_content_vector_list)\n",
    "user_collaborative_vector_list = np.array(user_collaborative_vector_list)"
   ]
  },
  {
   "cell_type": "code",
   "execution_count": 103,
   "metadata": {},
   "outputs": [],
   "source": [
    "word_1 = 'イナズマイレブン オリオンの刻印'\n",
    "word_2 = 'イナズマイレブン アレスの天秤'\n",
    "word_3 = '遊☆戯☆王デュエルモンスターズ　乃亜(ノア)編'\n",
    "word_4 = '遊☆戯☆王デュエルモンスターズ  バトルシティ編(前編)'\n",
    "word_5 = 'コナン'\n",
    "word_6 = 'ドラゴンボール'\n",
    "\n",
    "content_vector_list = []\n",
    "tag_vector_list = []\n",
    "collaborative_vector_list = []\n",
    "\n",
    "i = 0\n",
    "for word in [word_1, word_2, word_3, word_4, word_5, word_6]:\n",
    "  for meta in data.meta_db:\n",
    "    if word in meta.main_title or word in str(meta.synopsis):\n",
    "      # print(meta.main_title)\n",
    "      content_vector_list.append(meta.vectors['content_vector'])\n",
    "      tag_vector_list.append(meta.vectors['tag_vector'])\n",
    "      collaborative_vector_list.append(meta.vectors['collaborative_vector'])\n",
    "      i += 1\n",
    "      # if i > 3:\n",
    "      #   break\n",
    "\n",
    "tag_vector_list = np.array(tag_vector_list)\n",
    "content_vector_list = np.array(content_vector_list)\n",
    "collaborative_vector_list = np.array(collaborative_vector_list)"
   ]
  },
  {
   "cell_type": "code",
   "execution_count": 104,
   "metadata": {},
   "outputs": [],
   "source": [
    "collaborative_stack = np.vstack((user_collaborative_vector_list, collaborative_vector_list))\n",
    "content_stack = np.vstack((user_content_vector_list, content_vector_list))\n",
    "tag_stack = np.vstack((user_tag_vector_list, tag_vector_list))"
   ]
  },
  {
   "cell_type": "code",
   "execution_count": 105,
   "metadata": {},
   "outputs": [],
   "source": [
    "from sklearn.manifold import TSNE\n",
    "\n",
    "data_tag = TSNE(n_components=2, perplexity=8.5, random_state=0).fit_transform(tag_stack)\n",
    "content_tag = TSNE(n_components=2, perplexity=8.5, random_state=0).fit_transform(content_stack)\n",
    "collaborative_tag = TSNE(n_components=2, perplexity=8.5, random_state=0).fit_transform(collaborative_stack)"
   ]
  },
  {
   "cell_type": "code",
   "execution_count": 106,
   "metadata": {},
   "outputs": [],
   "source": [
    "def tsne_plot_helper(data1):\n",
    "\n",
    "  msize = 100\n",
    "  mtype = 'o'\n",
    "  SHIFT_X, SHIFT_Y = 0.1, 0.1\n",
    "  plt.figure(figsize=(10, 10))\n",
    "\n",
    "  plt.scatter(data1[0: user_num, 0], data1[0: user_num, 1], s=msize, marker=mtype, c='red', label='user')\n",
    "  plt.scatter(data1[user_num: user_num + 49, 0], data1[user_num: user_num + 49, 1], s=msize, marker=mtype, c='blue', label='inazuma orion')\n",
    "  plt.scatter(data1[user_num + 49: user_num + 75, 0], data1[user_num + 49: user_num + 75, 1], s=msize, marker=mtype, c='green', label='inazuma asure')\n",
    "  plt.scatter(data1[user_num + 75: user_num + 99, 0], data1[user_num + 75: user_num + 99, 1], s=msize, marker=mtype, c='yellow', label='yuugiou noa')\n",
    "  plt.scatter(data1[user_num + 99: user_num + 145, 0], data1[user_num + 99: user_num + 145, 1], s=msize, marker=mtype, c='orange', label='yuugiou battle city')\n",
    "  plt.scatter(data1[user_num + 145: user_num + 500, 0], data1[user_num + 145: user_num + 500, 1], s=msize, marker=mtype, c='black', label='conan')\n",
    "\n",
    "  plt.tick_params(labelsize=24) \n",
    "  plt.grid(True)\n",
    "  plt.legend(fontsize=15)"
   ]
  },
  {
   "cell_type": "markdown",
   "metadata": {},
   "source": [
    "## グラフのプロット\n",
    "\n",
    "- 赤； ユーザー ランダム１００人\n",
    "- 青： 'イナズマイレブン オリオンの刻印' 全４６話\n",
    "- 緑: 'イナズマイレブン アレスの天秤' 全４６話\n",
    "- 黄色: '遊☆戯☆王デュエルモンスターズ　乃亜(ノア)編' 全４６話\n",
    "- オレンジ: '遊☆戯☆王デュエルモンスターズ  バトルシティ編(前編)' 全４６話\n",
    "- 黒: 'コナン' 500 - 上記総作品数\n",
    "\n",
    "\n",
    "### タグベクトル"
   ]
  },
  {
   "cell_type": "code",
   "execution_count": null,
   "metadata": {
    "scrolled": false
   },
   "outputs": [],
   "source": [
    "tsne_plot_helper(data_tag)"
   ]
  },
  {
   "cell_type": "markdown",
   "metadata": {},
   "source": [
    "![bug\\_210430\\_02\\_15\\_0.png](https://image.docbase.io/uploads/486a123b-1c36-4c1d-946a-a5f5bd65908e.png =WxH)\n"
   ]
  },
  {
   "cell_type": "markdown",
   "metadata": {},
   "source": [
    "- 赤のユーザー群が一部に密集している\n",
    "- 色ごとにクラスターを形成している（アニメや映画など様々なタグを持つコナン：黒は除く）"
   ]
  },
  {
   "cell_type": "markdown",
   "metadata": {},
   "source": [
    "###  コンテンツベクトル"
   ]
  },
  {
   "cell_type": "code",
   "execution_count": null,
   "metadata": {
    "scrolled": false
   },
   "outputs": [],
   "source": [
    "tsne_plot_helper(content_tag)"
   ]
  },
  {
   "cell_type": "markdown",
   "metadata": {},
   "source": [
    "![bug\\_210430\\_02\\_19\\_0.png](https://image.docbase.io/uploads/c4b2b208-9efb-4dfc-b439-2ccbaa7c14ea.png =WxH)"
   ]
  },
  {
   "cell_type": "markdown",
   "metadata": {},
   "source": [
    "- おそらく、今回の問題の最も重要な原因と思われる\n",
    "- 赤のユーザー群が一部に密集している、かつ、イナズマイレブンや遊戯王が作るクラスターに、クラスターレベルで近い位置を占める\n",
    "- コナンよりも近い"
   ]
  },
  {
   "cell_type": "markdown",
   "metadata": {},
   "source": [
    "### 協調ベクトル"
   ]
  },
  {
   "cell_type": "code",
   "execution_count": null,
   "metadata": {
    "scrolled": false
   },
   "outputs": [],
   "source": [
    "tsne_plot_helper(collaborative_tag)"
   ]
  },
  {
   "cell_type": "markdown",
   "metadata": {},
   "source": [
    "![bug\\_210430\\_02\\_23\\_0.png](https://image.docbase.io/uploads/28df2799-3d62-4f83-a223-10e5e3c389d1.png =WxH)"
   ]
  },
  {
   "cell_type": "markdown",
   "metadata": {},
   "source": [
    "- 赤のユーザー群が一部に密集している\n",
    "- 作品は広く分布している"
   ]
  },
  {
   "cell_type": "markdown",
   "metadata": {},
   "source": [
    "## ランダムユーザー3000人の場合\n",
    "\n",
    "- タグベクトル\n",
    "\n",
    "![bug\\_210430\\_02\\_15\\_0.png](https://image.docbase.io/uploads/8e4e8aed-a662-490f-9151-51069a6655c3.png =WxH)\n",
    "\n",
    "- コンテンツベクトル\n",
    "\n",
    "![bug\\_210430\\_02\\_19\\_0.png](https://image.docbase.io/uploads/972f3877-d8af-48c3-ba31-3c61db438507.png =WxH)\n",
    "\n",
    "- 協調ベクトル\n",
    "\n",
    "![bug\\_210430\\_02\\_23\\_0.png](https://image.docbase.io/uploads/afbeee34-37f0-4b20-88d8-d8ced4883448.png =WxH)\n",
    "\n",
    "事前のイメージとしては、赤のプロットがｘｙ平面全体に均一に散らばる。"
   ]
  },
  {
   "cell_type": "markdown",
   "metadata": {},
   "source": [
    "### 可視化に関する結論\n",
    "\n",
    "- あくまでも二次元に圧縮したという場合だが、ユーザーのベクトルが想像以上に一箇所に集中しすぎている\n",
    "- 主にコンテンツベクトルにおいて、ユーザークラスターとイレブンナインクラスター、遊戯王クラスターが近く、どのようにユーザーをサンプリングしても、二つの作品がレコメンドリストに載る結果になる"
   ]
  },
  {
   "cell_type": "markdown",
   "metadata": {},
   "source": [
    "## 「JOJO」や「進撃の巨人」を閲覧しているユーザ が「イナズマイレブン」や「遊戯王」をみるか\n",
    "\n",
    "注意：以下のプログラムを実行するには大きなメモリが必要 => クラウド上で実行すること\n",
    "\n",
    "- ※「JOJO」や「進撃の巨人」を閲覧しているユーザは、「イナズマイレブン」や「遊戯王」をみる計算結果になっているのか？と解釈\n",
    "\n",
    "\n",
    "### ジョジョや進撃の巨人を見ているユーザーを洗い出す"
   ]
  },
  {
   "cell_type": "code",
   "execution_count": 3,
   "metadata": {},
   "outputs": [],
   "source": [
    "# とりあえず、見ているユーザーTOP１０で確認する\n",
    "top_k = 10"
   ]
  },
  {
   "cell_type": "code",
   "execution_count": 4,
   "metadata": {},
   "outputs": [],
   "source": [
    "log_datas = data.user_log_db.data\n",
    "meta_dbs = data.meta_db\n",
    "\n",
    "bcid2id = data.user_log_db.bcid2id\n",
    "crid2id = data.user_log_db.crid2id\n",
    "\n",
    "id2bcid = data.user_log_db.id2bcid\n",
    "id2crid = data.user_log_db.id2crid\n",
    "\n",
    "pd_contents = [] \n",
    "pd_index = []\n",
    "\n",
    "str_shingeki = \"進撃の巨人\"\n",
    "str_jojo = \"ジョジョ\"\n",
    "\n",
    "for user, logs in log_datas.items():\n",
    "  # print(id2bcid[user])\n",
    "  \n",
    "  bcid = id2bcid[user]\n",
    "  cnt_jojo = 0\n",
    "  cnt_shingeki = 0\n",
    "\n",
    "  pd_index.append(bcid)\n",
    "  \n",
    "  for log in logs:\n",
    "    crid = id2crid[log]\n",
    "    title = meta_dbs.get(crid).main_title\n",
    "    # print('  {}'.format(title))\n",
    "    \n",
    "    if str_jojo in title:\n",
    "      cnt_jojo += 1\n",
    "\n",
    "    if str_shingeki in title:\n",
    "      cnt_shingeki += 1\n",
    "   \n",
    "  pd_contents.append({\n",
    "    str_jojo: cnt_jojo,\n",
    "    str_jojo + \"_ratio\": float(cnt_jojo / len(logs)),\n",
    "    str_shingeki: cnt_shingeki,\n",
    "    str_shingeki + \"_ratio\": float(cnt_shingeki / len(logs)),\n",
    "    \"logs\": len(logs)\n",
    "  })\n",
    "\n",
    "df = pd.DataFrame(pd_contents, index=pd_index)"
   ]
  },
  {
   "cell_type": "code",
   "execution_count": 5,
   "metadata": {},
   "outputs": [
    {
     "data": {
      "text/html": [
       "<div>\n",
       "<style scoped>\n",
       "    .dataframe tbody tr th:only-of-type {\n",
       "        vertical-align: middle;\n",
       "    }\n",
       "\n",
       "    .dataframe tbody tr th {\n",
       "        vertical-align: top;\n",
       "    }\n",
       "\n",
       "    .dataframe thead th {\n",
       "        text-align: right;\n",
       "    }\n",
       "</style>\n",
       "<table border=\"1\" class=\"dataframe\">\n",
       "  <thead>\n",
       "    <tr style=\"text-align: right;\">\n",
       "      <th></th>\n",
       "      <th>進撃の巨人</th>\n",
       "      <th>進撃の巨人_ratio</th>\n",
       "    </tr>\n",
       "  </thead>\n",
       "  <tbody>\n",
       "    <tr>\n",
       "      <th>af971f1aee1b760</th>\n",
       "      <td>1817</td>\n",
       "      <td>0.453683</td>\n",
       "    </tr>\n",
       "    <tr>\n",
       "      <th>f2a2c5de909a501a</th>\n",
       "      <td>1590</td>\n",
       "      <td>0.366613</td>\n",
       "    </tr>\n",
       "    <tr>\n",
       "      <th>45f54cc6daaa7556</th>\n",
       "      <td>1300</td>\n",
       "      <td>0.307765</td>\n",
       "    </tr>\n",
       "    <tr>\n",
       "      <th>2fe0350db4b0ac8a</th>\n",
       "      <td>994</td>\n",
       "      <td>0.537879</td>\n",
       "    </tr>\n",
       "    <tr>\n",
       "      <th>207bc1482944f41b</th>\n",
       "      <td>990</td>\n",
       "      <td>0.836149</td>\n",
       "    </tr>\n",
       "    <tr>\n",
       "      <th>19632521e4271461</th>\n",
       "      <td>933</td>\n",
       "      <td>0.590506</td>\n",
       "    </tr>\n",
       "    <tr>\n",
       "      <th>638b5252e80c6713</th>\n",
       "      <td>933</td>\n",
       "      <td>0.216273</td>\n",
       "    </tr>\n",
       "    <tr>\n",
       "      <th>54b9605d4a6b2021</th>\n",
       "      <td>840</td>\n",
       "      <td>0.410959</td>\n",
       "    </tr>\n",
       "    <tr>\n",
       "      <th>5ee0fac8e038f8b6</th>\n",
       "      <td>823</td>\n",
       "      <td>0.230339</td>\n",
       "    </tr>\n",
       "    <tr>\n",
       "      <th>127709d55858f45e</th>\n",
       "      <td>772</td>\n",
       "      <td>0.803330</td>\n",
       "    </tr>\n",
       "  </tbody>\n",
       "</table>\n",
       "</div>"
      ],
      "text/plain": [
       "                  進撃の巨人  進撃の巨人_ratio\n",
       "af971f1aee1b760    1817     0.453683\n",
       "f2a2c5de909a501a   1590     0.366613\n",
       "45f54cc6daaa7556   1300     0.307765\n",
       "2fe0350db4b0ac8a    994     0.537879\n",
       "207bc1482944f41b    990     0.836149\n",
       "19632521e4271461    933     0.590506\n",
       "638b5252e80c6713    933     0.216273\n",
       "54b9605d4a6b2021    840     0.410959\n",
       "5ee0fac8e038f8b6    823     0.230339\n",
       "127709d55858f45e    772     0.803330"
      ]
     },
     "execution_count": 5,
     "metadata": {},
     "output_type": "execute_result"
    }
   ],
   "source": [
    "df.sort_values(str_shingeki, ascending=False)[[str_shingeki, str_shingeki + '_ratio']].head(10)"
   ]
  },
  {
   "cell_type": "code",
   "execution_count": 6,
   "metadata": {},
   "outputs": [
    {
     "data": {
      "text/html": [
       "<div>\n",
       "<style scoped>\n",
       "    .dataframe tbody tr th:only-of-type {\n",
       "        vertical-align: middle;\n",
       "    }\n",
       "\n",
       "    .dataframe tbody tr th {\n",
       "        vertical-align: top;\n",
       "    }\n",
       "\n",
       "    .dataframe thead th {\n",
       "        text-align: right;\n",
       "    }\n",
       "</style>\n",
       "<table border=\"1\" class=\"dataframe\">\n",
       "  <thead>\n",
       "    <tr style=\"text-align: right;\">\n",
       "      <th></th>\n",
       "      <th>ジョジョ</th>\n",
       "      <th>ジョジョ_ratio</th>\n",
       "    </tr>\n",
       "  </thead>\n",
       "  <tbody>\n",
       "    <tr>\n",
       "      <th>a7d68f64631cba5e</th>\n",
       "      <td>275</td>\n",
       "      <td>0.588865</td>\n",
       "    </tr>\n",
       "    <tr>\n",
       "      <th>92c7fb011338d3e5</th>\n",
       "      <td>166</td>\n",
       "      <td>0.120991</td>\n",
       "    </tr>\n",
       "    <tr>\n",
       "      <th>3180360f909b275</th>\n",
       "      <td>130</td>\n",
       "      <td>0.221843</td>\n",
       "    </tr>\n",
       "    <tr>\n",
       "      <th>4a201388fbdea9ed</th>\n",
       "      <td>126</td>\n",
       "      <td>0.075449</td>\n",
       "    </tr>\n",
       "    <tr>\n",
       "      <th>7dc429c7f3f381d8</th>\n",
       "      <td>126</td>\n",
       "      <td>0.137405</td>\n",
       "    </tr>\n",
       "    <tr>\n",
       "      <th>298a27712a41cd80</th>\n",
       "      <td>119</td>\n",
       "      <td>0.708333</td>\n",
       "    </tr>\n",
       "    <tr>\n",
       "      <th>85331569608f2138</th>\n",
       "      <td>113</td>\n",
       "      <td>0.055665</td>\n",
       "    </tr>\n",
       "    <tr>\n",
       "      <th>a5afc8eca7bbe5d3</th>\n",
       "      <td>99</td>\n",
       "      <td>0.245658</td>\n",
       "    </tr>\n",
       "    <tr>\n",
       "      <th>6c51354e0d30988c</th>\n",
       "      <td>98</td>\n",
       "      <td>0.161450</td>\n",
       "    </tr>\n",
       "    <tr>\n",
       "      <th>a5de55452e65749d</th>\n",
       "      <td>97</td>\n",
       "      <td>0.192843</td>\n",
       "    </tr>\n",
       "  </tbody>\n",
       "</table>\n",
       "</div>"
      ],
      "text/plain": [
       "                  ジョジョ  ジョジョ_ratio\n",
       "a7d68f64631cba5e   275    0.588865\n",
       "92c7fb011338d3e5   166    0.120991\n",
       "3180360f909b275    130    0.221843\n",
       "4a201388fbdea9ed   126    0.075449\n",
       "7dc429c7f3f381d8   126    0.137405\n",
       "298a27712a41cd80   119    0.708333\n",
       "85331569608f2138   113    0.055665\n",
       "a5afc8eca7bbe5d3    99    0.245658\n",
       "6c51354e0d30988c    98    0.161450\n",
       "a5de55452e65749d    97    0.192843"
      ]
     },
     "execution_count": 6,
     "metadata": {},
     "output_type": "execute_result"
    }
   ],
   "source": [
    "df.sort_values(str_jojo, ascending=False)[[str_jojo, str_jojo + '_ratio']].head(10)"
   ]
  },
  {
   "cell_type": "code",
   "execution_count": 7,
   "metadata": {},
   "outputs": [],
   "source": [
    "shingeki_top_k_bcid = df.sort_values(str_shingeki, ascending=False).index[:top_k]\n",
    "jojo_top_k_bcid = df.sort_values(str_jojo, ascending=False).index[:top_k]"
   ]
  },
  {
   "cell_type": "code",
   "execution_count": 8,
   "metadata": {},
   "outputs": [
    {
     "data": {
      "text/plain": [
       "Index(['af971f1aee1b760', 'f2a2c5de909a501a', '45f54cc6daaa7556',\n",
       "       '2fe0350db4b0ac8a', '207bc1482944f41b', '19632521e4271461',\n",
       "       '638b5252e80c6713', '54b9605d4a6b2021', '5ee0fac8e038f8b6',\n",
       "       '127709d55858f45e'],\n",
       "      dtype='object')"
      ]
     },
     "execution_count": 8,
     "metadata": {},
     "output_type": "execute_result"
    }
   ],
   "source": [
    "shingeki_top_k_bcid"
   ]
  },
  {
   "cell_type": "code",
   "execution_count": 9,
   "metadata": {},
   "outputs": [
    {
     "data": {
      "text/plain": [
       "Index(['a7d68f64631cba5e', '92c7fb011338d3e5', '3180360f909b275',\n",
       "       '4a201388fbdea9ed', '7dc429c7f3f381d8', '298a27712a41cd80',\n",
       "       '85331569608f2138', 'a5afc8eca7bbe5d3', '6c51354e0d30988c',\n",
       "       'a5de55452e65749d'],\n",
       "      dtype='object')"
      ]
     },
     "execution_count": 9,
     "metadata": {},
     "output_type": "execute_result"
    }
   ],
   "source": [
    "jojo_top_k_bcid"
   ]
  },
  {
   "cell_type": "markdown",
   "metadata": {},
   "source": [
    "### UserToVodの結果から、上記ユーザーが「イナズマイレブン」や「遊戯王」を見ているか確認する"
   ]
  },
  {
   "cell_type": "code",
   "execution_count": 10,
   "metadata": {
    "scrolled": true
   },
   "outputs": [
    {
     "name": "stdout",
     "output_type": "stream",
     "text": [
      "total 97G\r\n",
      "drwxr-xr-x 2 root root 4.0K May  2 11:51 .\r\n",
      "drwxr-xr-x 4 root root 4.0K May  1 13:20 ..\r\n",
      "-rw-r--r-- 1 root root 7.5G May  2 04:55 tv_1_result.pkl\r\n",
      "-rw-r--r-- 1 root root 7.5G May  2 08:18 tv_2_result.pkl\r\n",
      "-rw-r--r-- 1 root root 9.2G May  2 10:06 tv_3_result.pkl\r\n",
      "-rw-r--r-- 1 root root 480M Apr 30 07:29 vod_1_result.pkl\r\n",
      "-rw-r--r-- 1 root root 483M Apr 30 08:12 vod_2_result.pkl\r\n",
      "-rw-r--r-- 1 root root 481M Apr 30 08:09 vod_2_result_before.pkl\r\n",
      "-rw-r--r-- 1 root root 2.7G Apr 30 12:52 vod_3_2_result.pkl\r\n",
      "-rw-r--r-- 1 root root 3.5G Apr 30 13:04 vod_3_3_result.pkl\r\n",
      "-rw-r--r-- 1 root root 3.6G Apr 30 13:15 vod_4_result.pkl\r\n",
      "-rw-r--r-- 1 root root 3.7G Apr 30 13:17 vod_5_result.pkl\r\n",
      "-rw-r--r-- 1 root root 3.7G May  1 16:09 vod_6_result.pkl\r\n",
      "-rw-r--r-- 1 root root 3.7G May  2 15:33 vod_7_result.pkl\r\n",
      "-rw-r--r-- 1 root root 3.7G May  1 17:34 vod_7_result_no_tv.pkl\r\n",
      "-rw-r--r-- 1 root root 8.8G May  1 16:08 vod_program_based_recommendation.json\r\n",
      "-rw-r--r-- 1 root root  26G May  2 15:32 vod_user_based_recommendation.json\r\n",
      "-rw-r--r-- 1 root root  13G May  1 17:33 vod_user_based_recommendation_no_tv.json\r\n"
     ]
    }
   ],
   "source": [
    "# 巨大なファイル群\n",
    "# 出力ファイルが数十GBオーダー\n",
    "\n",
    "!ls -alh ../data/files/210423/output/"
   ]
  },
  {
   "cell_type": "code",
   "execution_count": 11,
   "metadata": {},
   "outputs": [],
   "source": [
    "import json\n",
    "\n",
    "file_dir = \"../data/files/210423/output/\"\n",
    "vod_to_vod_file_name = \"vod_program_based_recommendation.json\"\n",
    "user_to_vod_file_name = \"vod_user_based_recommendation.json\"\n",
    "user_to_vod_no_tv_file_name = \"vod_user_based_recommendation_no_tv.json\"\n",
    "\n",
    "############################################################\n",
    "# ファイルがとても巨大なので、一括して読み込むとOOM\n",
    "# 一つづつ読み込むこと\n",
    "############################################################\n",
    "\n",
    "# with open(file_dir + vod_to_vod_file_name) as f:\n",
    "#   vod_to_vod_json  = json.load(f)\n",
    "\n",
    "with open(file_dir + user_to_vod_file_name) as f:\n",
    "  user_to_vod_json  = json.load(f)\n",
    "\n",
    "# with open(file_dir + user_to_vod_no_tv_file_name) as f:\n",
    "#   user_to_vod_json_no_tv  = json.load(f)"
   ]
  },
  {
   "cell_type": "code",
   "execution_count": 72,
   "metadata": {},
   "outputs": [],
   "source": [
    "# Index(['45f54cc6daaa7556', '638b5252e80c6713', '54b9605d4a6b2021',\n",
    "#        'c633420c6d16bb69', '5aac5d508328aa2a', '957e51610930e788',\n",
    "#        'e78ed8bb4dc5ff2e', '46caa99b18da21af', 'd1fda84420cc82e1',\n",
    "#        'f5f00699c99fa37a'],\n",
    "# \n",
    "\n",
    "# イナズマイレブン オリオンの刻印 全49話【あにてれしあたー】                                           11673\n",
    "# イナズマイレブン アレスの天秤 全26話【あにてれしあたー】                                             8398\n",
    "#  遊☆戯☆王デュエルモンスターズ　乃亜(ノア)編　全24話【あにてれしあたー】                             8058\n",
    "#  遊☆戯☆王デュエルモンスターズ  バトルシティ編(前編)　全46話【あにてれしあたー】                     8009\n",
    "\n",
    "str_eleven_nine = 'イナズマイレブン'\n",
    "str_yuugiou = '遊☆戯☆王'\n",
    "\n",
    "def get_eleven_nine_yuugiou_cnt_list(bcid_list):\n",
    "  \n",
    "  count = 0\n",
    "  ret_list = []\n",
    "  \n",
    "  user_count = 0\n",
    "  cnt_eleven_nine = 0\n",
    "  cnt_yuugiou = 0\n",
    " \n",
    "  value_reciprocal_eleven_nine = 0\n",
    "  value_reciprocal_yuugiou = 0\n",
    "\n",
    "  for bcid in bcid_list:\n",
    "      \n",
    "    if bcid in user_to_vod_json.keys():\n",
    "      df = pd.DataFrame.from_dict(user_to_vod_json[bcid]).set_index('crids')\n",
    "      user_count += 1\n",
    "    else:\n",
    "      continue\n",
    "   \n",
    "    for i, (crid, v) in enumerate(df.iterrows()):\n",
    "      title = meta_dbs.get(crid).main_title\n",
    "      count += 1\n",
    "      \n",
    "      if str_eleven_nine in title:\n",
    "        cnt_eleven_nine += 1\n",
    "        value_reciprocal_eleven_nine += 1 / (i + 1)\n",
    "      \n",
    "      if str_yuugiou in title:\n",
    "        cnt_yuugiou += 1\n",
    "        value_reciprocal_yuugiou += 1 / (i + 1)\n",
    "  \n",
    "  ret_list.append({\n",
    "    str_eleven_nine: cnt_eleven_nine,\n",
    "    str_eleven_nine + \"_user_ratio\": float(cnt_eleven_nine / user_count) if user_count != 0 else 0,\n",
    "    str_eleven_nine + \"_ratio\": float(cnt_eleven_nine / count) if count != 0 else 0,\n",
    "    str_eleven_nine + \"_reciprocal_ratio\": float(value_reciprocal_eleven_nine / count) if count != 0 else 0,\n",
    "    str_yuugiou: cnt_yuugiou,\n",
    "    str_yuugiou + \"_user_ratio\": float(cnt_yuugiou / user_count) if user_count != 0 else 0,\n",
    "    str_yuugiou + \"_ratio\": float(cnt_yuugiou / count) if count != 0 else 0,\n",
    "    str_yuugiou + \"_reciprocal_ratio\": float(value_reciprocal_yuugiou / count) if count != 0 else 0,\n",
    "    \"count\": count,\n",
    "  })\n",
    "  \n",
    "  return ret_list"
   ]
  },
  {
   "cell_type": "code",
   "execution_count": 73,
   "metadata": {},
   "outputs": [
    {
     "data": {
      "text/plain": [
       "[{'イナズマイレブン': 277,\n",
       "  'イナズマイレブン_user_ratio': 27.7,\n",
       "  'イナズマイレブン_ratio': 0.0554,\n",
       "  'イナズマイレブン_reciprocal_ratio': 0.0024019269949217925,\n",
       "  '遊☆戯☆王': 458,\n",
       "  '遊☆戯☆王_user_ratio': 45.8,\n",
       "  '遊☆戯☆王_ratio': 0.0916,\n",
       "  '遊☆戯☆王_reciprocal_ratio': 0.0013097165724892431,\n",
       "  'count': 5000}]"
      ]
     },
     "execution_count": 73,
     "metadata": {},
     "output_type": "execute_result"
    }
   ],
   "source": [
    "target_shingeki_bcid_eleven_nine_yuugiou_cnt_list = get_eleven_nine_yuugiou_cnt_list(shingeki_top_k_bcid)\n",
    "target_shingeki_bcid_eleven_nine_yuugiou_cnt_list"
   ]
  },
  {
   "cell_type": "code",
   "execution_count": 74,
   "metadata": {},
   "outputs": [
    {
     "data": {
      "text/plain": [
       "[{'イナズマイレブン': 131,\n",
       "  'イナズマイレブン_user_ratio': 13.1,\n",
       "  'イナズマイレブン_ratio': 0.0262,\n",
       "  'イナズマイレブン_reciprocal_ratio': 0.000681706331035436,\n",
       "  '遊☆戯☆王': 446,\n",
       "  '遊☆戯☆王_user_ratio': 44.6,\n",
       "  '遊☆戯☆王_ratio': 0.0892,\n",
       "  '遊☆戯☆王_reciprocal_ratio': 0.002533838370265288,\n",
       "  'count': 5000}]"
      ]
     },
     "execution_count": 74,
     "metadata": {},
     "output_type": "execute_result"
    }
   ],
   "source": [
    "target_jojo_bcid_eleven_nine_yuugiou_cnt_list = get_eleven_nine_yuugiou_cnt_list(jojo_top_k_bcid)\n",
    "target_jojo_bcid_eleven_nine_yuugiou_cnt_list"
   ]
  },
  {
   "cell_type": "markdown",
   "metadata": {},
   "source": [
    "ランダムサンプリングして、同じ結果を出力し比較する"
   ]
  },
  {
   "cell_type": "code",
   "execution_count": 75,
   "metadata": {},
   "outputs": [
    {
     "data": {
      "text/plain": [
       "[{'イナズマイレブン': 11331,\n",
       "  'イナズマイレブン_user_ratio': 3.8645975443383356,\n",
       "  'イナズマイレブン_ratio': 0.007767108751861063,\n",
       "  'イナズマイレブン_reciprocal_ratio': 0.00015299640193981595,\n",
       "  '遊☆戯☆王': 24947,\n",
       "  '遊☆戯☆王_user_ratio': 8.508526603001364,\n",
       "  '遊☆戯☆王_ratio': 0.017100526170036,\n",
       "  '遊☆戯☆王_reciprocal_ratio': 0.0002623721631539834,\n",
       "  'count': 1458844}]"
      ]
     },
     "execution_count": 75,
     "metadata": {},
     "output_type": "execute_result"
    }
   ],
   "source": [
    "np.random.seed(123)\n",
    "\n",
    "all_bcid_list = data.user_db.basic_contract_ids\n",
    "selected_bcid_list  = np.random.choice(all_bcid_list, 3000)\n",
    "\n",
    "selected_eleven_nine_yuugiou_bcid_cnt_list = get_eleven_nine_yuugiou_cnt_list(selected_bcid_list)\n",
    "selected_eleven_nine_yuugiou_bcid_cnt_list"
   ]
  },
  {
   "cell_type": "markdown",
   "metadata": {},
   "source": [
    "|                         | TOP５００の推薦リスト <br> イナズマイレブン作品数 | TOP５００の推薦リスト <br> 遊戯王作品数  |TOP５００の推薦リスト <br> イナズマイレブンMRR  | TOP５００の推薦リスト <br> 遊戯王MRR |\n",
    "| :---:                   | :---: | :---: |:---: |:---: |\n",
    "| [進撃の巨人]を見てるTOP１０人 | 27.7 |  45.8| $2.40 \\times 10^{-3}$ | $1.30 \\times 10^{-3}$|\n",
    "| [ジョジョ]を見ているTOP１０人   | 13.1 | 44.6 | $6.82 \\times 10^{-4}$ | $2.53 \\times 10^{-3}$ |\n",
    "| サンプリング <br> 3000人   | 3.9 | 8.5 | $1.53 \\times 10^{-4}$ |$2.62 \\times 10^{-4}$ |\n",
    "\n",
    "$\\ast$ MMR(Mean Reciptical Rank)は順位の逆数の平均"
   ]
  },
  {
   "cell_type": "markdown",
   "metadata": {},
   "source": [
    "### 「イナズマイレブン」や「遊戯王」に関する結論\n",
    "\n",
    "進撃の巨人やジョジョを見ているユーザーには、イナズマイレブンや遊戯王が相対的に多く推薦されることがわかった。"
   ]
  },
  {
   "cell_type": "markdown",
   "metadata": {},
   "source": [
    "## 結論\n",
    "\n",
    "- ベクトル空間上でイナズマイレブンや遊戯王が相対的に分散が大きいわけではない\n",
    "- ユーザークラスタが予想以上に密集しており、イナズマイレブンクラスタや遊戯王クラスタにより近い\n",
    "- 進撃の巨人やジョジョを見ているユーザーには相対的にイナズマイレブンや遊戯王が推薦される\n",
    "- 推薦アルゴリズムのバグではなく、仕様通りである"
   ]
  },
  {
   "cell_type": "code",
   "execution_count": null,
   "metadata": {},
   "outputs": [],
   "source": []
  }
 ],
 "metadata": {
  "kernelspec": {
   "display_name": "Python 3",
   "language": "python",
   "name": "python3"
  },
  "language_info": {
   "codemirror_mode": {
    "name": "ipython",
    "version": 3
   },
   "file_extension": ".py",
   "mimetype": "text/x-python",
   "name": "python",
   "nbconvert_exporter": "python",
   "pygments_lexer": "ipython3",
   "version": "3.7.10"
  }
 },
 "nbformat": 4,
 "nbformat_minor": 4
}
